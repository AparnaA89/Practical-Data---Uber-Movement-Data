{
 "cells": [
  {
   "cell_type": "code",
   "execution_count": 50,
   "metadata": {},
   "outputs": [],
   "source": [
    "import pandas as pd\n",
    "import numpy as np\n",
    "import seaborn as sns\n",
    "import matplotlib as mt\n",
    "import matplotlib.pyplot as plt\n",
    "from pandas import DataFrame, read_excel, merge"
   ]
  },
  {
   "cell_type": "code",
   "execution_count": 51,
   "metadata": {},
   "outputs": [],
   "source": [
    "hourly_data = pd.read_csv('D:\\\\Practical Data\\\\Week 4\\\\Uber Data\\\\bangalore-wards-2019-4-All-HourlyAggregate.csv')\n",
    "blr_wards = pd.read_excel('D:\\\\Practical Data\\\\Week 4\\\\Uber Data\\\\csv_converted\\\\bangalore_wards_Modified_1.xlsx')\n",
    "Weekly_data = pd.read_csv('D:\\\\Practical Data\\\\Week 4\\\\Uber Data\\\\bangalore-wards-2019-4-All-WeeklyAggregate.csv')"
   ]
  },
  {
   "cell_type": "code",
   "execution_count": 52,
   "metadata": {},
   "outputs": [],
   "source": [
    "hourly_data1 = pd.DataFrame(hourly_data)\n",
    "blr_wards1 = pd.DataFrame(blr_wards)"
   ]
  },
  {
   "cell_type": "code",
   "execution_count": 53,
   "metadata": {},
   "outputs": [
    {
     "data": {
      "text/plain": [
       "(854482, 7)"
      ]
     },
     "execution_count": 53,
     "metadata": {},
     "output_type": "execute_result"
    }
   ],
   "source": [
    "hourly_data.shape"
   ]
  },
  {
   "cell_type": "code",
   "execution_count": 54,
   "metadata": {},
   "outputs": [
    {
     "data": {
      "text/plain": [
       "Index(['sourceid', 'dstid', 'hod', 'mean_travel_time',\n",
       "       'standard_deviation_travel_time', 'geometric_mean_travel_time',\n",
       "       'geometric_standard_deviation_travel_time'],\n",
       "      dtype='object')"
      ]
     },
     "execution_count": 54,
     "metadata": {},
     "output_type": "execute_result"
    }
   ],
   "source": [
    "hourly_data1.columns"
   ]
  },
  {
   "cell_type": "code",
   "execution_count": 55,
   "metadata": {},
   "outputs": [
    {
     "data": {
      "text/plain": [
       "MOVEMENT_ID      int64\n",
       "DISPLAY_NAME    object\n",
       "dtype: object"
      ]
     },
     "execution_count": 55,
     "metadata": {},
     "output_type": "execute_result"
    }
   ],
   "source": [
    "blr_wards1.dtypes"
   ]
  },
  {
   "cell_type": "code",
   "execution_count": 56,
   "metadata": {},
   "outputs": [],
   "source": [
    "blr_wards2 = pd.DataFrame(blr_wards1)"
   ]
  },
  {
   "cell_type": "code",
   "execution_count": 57,
   "metadata": {},
   "outputs": [],
   "source": [
    "#blr_wards2 = blr_wards2.drop(['type','type.1','WARD_NO','WARD_NAME','feature_type','coordinates__001','coordinates__002'], axis = 1)\n",
    "#blr_wards3 = blr_wards3.drop(['type','type.1','WARD_NO','WARD_NAME','feature_type','coordinates__001','coordinates__002'], axis = 1)"
   ]
  },
  {
   "cell_type": "code",
   "execution_count": 58,
   "metadata": {},
   "outputs": [
    {
     "data": {
      "text/plain": [
       "Index(['MOVEMENT_ID', 'DISPLAY_NAME'], dtype='object')"
      ]
     },
     "execution_count": 58,
     "metadata": {},
     "output_type": "execute_result"
    }
   ],
   "source": [
    "blr_wards2.columns"
   ]
  },
  {
   "cell_type": "code",
   "execution_count": 59,
   "metadata": {},
   "outputs": [
    {
     "data": {
      "text/plain": [
       "Index(['sourceid', 'source_name'], dtype='object')"
      ]
     },
     "execution_count": 59,
     "metadata": {},
     "output_type": "execute_result"
    }
   ],
   "source": [
    "blr_wards2.columns = [\"sourceid\",\"source_name\"]\n",
    "blr_wards2.columns"
   ]
  },
  {
   "cell_type": "code",
   "execution_count": 60,
   "metadata": {},
   "outputs": [
    {
     "data": {
      "text/plain": [
       "sourceid        int64\n",
       "source_name    object\n",
       "dtype: object"
      ]
     },
     "execution_count": 60,
     "metadata": {},
     "output_type": "execute_result"
    }
   ],
   "source": [
    "blr_wards2.dtypes"
   ]
  },
  {
   "cell_type": "code",
   "execution_count": 61,
   "metadata": {},
   "outputs": [
    {
     "data": {
      "text/plain": [
       "(198, 2)"
      ]
     },
     "execution_count": 61,
     "metadata": {},
     "output_type": "execute_result"
    }
   ],
   "source": [
    "blr_wards2.shape"
   ]
  },
  {
   "cell_type": "code",
   "execution_count": 62,
   "metadata": {},
   "outputs": [
    {
     "data": {
      "text/plain": [
       "sourceid                                      int64\n",
       "dstid                                         int64\n",
       "dow                                           int64\n",
       "mean_travel_time                            float64\n",
       "standard_deviation_travel_time              float64\n",
       "geometric_mean_travel_time                  float64\n",
       "geometric_standard_deviation_travel_time    float64\n",
       "dtype: object"
      ]
     },
     "execution_count": 62,
     "metadata": {},
     "output_type": "execute_result"
    }
   ],
   "source": [
    "Weekly_data.dtypes"
   ]
  },
  {
   "cell_type": "code",
   "execution_count": 63,
   "metadata": {},
   "outputs": [],
   "source": [
    "Weekly_data['mean_travel_time_mins']=Weekly_data['mean_travel_time']/60\n",
    "Weekly_data['standard_deviation_travel_time_mins']=Weekly_data['standard_deviation_travel_time']/60\n",
    "Weekly_data['geometric_mean_travel_time_mins']=Weekly_data['geometric_mean_travel_time']/60"
   ]
  },
  {
   "cell_type": "code",
   "execution_count": 64,
   "metadata": {},
   "outputs": [],
   "source": [
    "hourly_data1['mean_travel_time_mins']=hourly_data1['mean_travel_time']/60\n",
    "hourly_data1['standard_deviation_travel_time_mins']=hourly_data1['standard_deviation_travel_time']/60\n",
    "hourly_data1['geometric_mean_travel_time_mins']=hourly_data1['geometric_mean_travel_time']/60"
   ]
  },
  {
   "cell_type": "code",
   "execution_count": 65,
   "metadata": {},
   "outputs": [
    {
     "data": {
      "text/plain": [
       "(854482, 10)"
      ]
     },
     "execution_count": 65,
     "metadata": {},
     "output_type": "execute_result"
    }
   ],
   "source": [
    "hourly_data1.shape"
   ]
  },
  {
   "cell_type": "code",
   "execution_count": 66,
   "metadata": {},
   "outputs": [
    {
     "data": {
      "text/html": [
       "<div>\n",
       "<style scoped>\n",
       "    .dataframe tbody tr th:only-of-type {\n",
       "        vertical-align: middle;\n",
       "    }\n",
       "\n",
       "    .dataframe tbody tr th {\n",
       "        vertical-align: top;\n",
       "    }\n",
       "\n",
       "    .dataframe thead th {\n",
       "        text-align: right;\n",
       "    }\n",
       "</style>\n",
       "<table border=\"1\" class=\"dataframe\">\n",
       "  <thead>\n",
       "    <tr style=\"text-align: right;\">\n",
       "      <th></th>\n",
       "      <th>sourceid</th>\n",
       "      <th>dstid</th>\n",
       "      <th>dow</th>\n",
       "      <th>mean_travel_time</th>\n",
       "      <th>standard_deviation_travel_time</th>\n",
       "      <th>geometric_mean_travel_time</th>\n",
       "      <th>geometric_standard_deviation_travel_time</th>\n",
       "      <th>mean_travel_time_mins</th>\n",
       "      <th>standard_deviation_travel_time_mins</th>\n",
       "      <th>geometric_mean_travel_time_mins</th>\n",
       "    </tr>\n",
       "  </thead>\n",
       "  <tbody>\n",
       "    <tr>\n",
       "      <td>count</td>\n",
       "      <td>267662.000000</td>\n",
       "      <td>267662.000000</td>\n",
       "      <td>267662.000000</td>\n",
       "      <td>267662.000000</td>\n",
       "      <td>267662.000000</td>\n",
       "      <td>267662.000000</td>\n",
       "      <td>267662.000000</td>\n",
       "      <td>267662.000000</td>\n",
       "      <td>267662.000000</td>\n",
       "      <td>267662.000000</td>\n",
       "    </tr>\n",
       "    <tr>\n",
       "      <td>mean</td>\n",
       "      <td>99.726360</td>\n",
       "      <td>99.768663</td>\n",
       "      <td>4.003684</td>\n",
       "      <td>2348.104783</td>\n",
       "      <td>794.949807</td>\n",
       "      <td>2215.896753</td>\n",
       "      <td>1.456126</td>\n",
       "      <td>39.135080</td>\n",
       "      <td>13.249163</td>\n",
       "      <td>36.931613</td>\n",
       "    </tr>\n",
       "    <tr>\n",
       "      <td>std</td>\n",
       "      <td>57.146814</td>\n",
       "      <td>57.339087</td>\n",
       "      <td>2.000577</td>\n",
       "      <td>1080.959491</td>\n",
       "      <td>332.492531</td>\n",
       "      <td>1037.938717</td>\n",
       "      <td>0.257603</td>\n",
       "      <td>18.015992</td>\n",
       "      <td>5.541542</td>\n",
       "      <td>17.298979</td>\n",
       "    </tr>\n",
       "    <tr>\n",
       "      <td>min</td>\n",
       "      <td>1.000000</td>\n",
       "      <td>1.000000</td>\n",
       "      <td>1.000000</td>\n",
       "      <td>66.760000</td>\n",
       "      <td>53.560000</td>\n",
       "      <td>23.180000</td>\n",
       "      <td>1.060000</td>\n",
       "      <td>1.112667</td>\n",
       "      <td>0.892667</td>\n",
       "      <td>0.386333</td>\n",
       "    </tr>\n",
       "    <tr>\n",
       "      <td>25%</td>\n",
       "      <td>50.000000</td>\n",
       "      <td>50.000000</td>\n",
       "      <td>2.000000</td>\n",
       "      <td>1552.342500</td>\n",
       "      <td>552.510000</td>\n",
       "      <td>1456.962500</td>\n",
       "      <td>1.340000</td>\n",
       "      <td>25.872375</td>\n",
       "      <td>9.208500</td>\n",
       "      <td>24.282708</td>\n",
       "    </tr>\n",
       "    <tr>\n",
       "      <td>50%</td>\n",
       "      <td>100.000000</td>\n",
       "      <td>100.000000</td>\n",
       "      <td>4.000000</td>\n",
       "      <td>2309.110000</td>\n",
       "      <td>748.205000</td>\n",
       "      <td>2186.275000</td>\n",
       "      <td>1.400000</td>\n",
       "      <td>38.485167</td>\n",
       "      <td>12.470083</td>\n",
       "      <td>36.437917</td>\n",
       "    </tr>\n",
       "    <tr>\n",
       "      <td>75%</td>\n",
       "      <td>149.000000</td>\n",
       "      <td>150.000000</td>\n",
       "      <td>6.000000</td>\n",
       "      <td>3091.250000</td>\n",
       "      <td>990.905000</td>\n",
       "      <td>2932.885000</td>\n",
       "      <td>1.480000</td>\n",
       "      <td>51.520833</td>\n",
       "      <td>16.515083</td>\n",
       "      <td>48.881417</td>\n",
       "    </tr>\n",
       "    <tr>\n",
       "      <td>max</td>\n",
       "      <td>198.000000</td>\n",
       "      <td>198.000000</td>\n",
       "      <td>7.000000</td>\n",
       "      <td>7050.330000</td>\n",
       "      <td>3958.520000</td>\n",
       "      <td>6806.120000</td>\n",
       "      <td>8.860000</td>\n",
       "      <td>117.505500</td>\n",
       "      <td>65.975333</td>\n",
       "      <td>113.435333</td>\n",
       "    </tr>\n",
       "  </tbody>\n",
       "</table>\n",
       "</div>"
      ],
      "text/plain": [
       "            sourceid          dstid            dow  mean_travel_time  \\\n",
       "count  267662.000000  267662.000000  267662.000000     267662.000000   \n",
       "mean       99.726360      99.768663       4.003684       2348.104783   \n",
       "std        57.146814      57.339087       2.000577       1080.959491   \n",
       "min         1.000000       1.000000       1.000000         66.760000   \n",
       "25%        50.000000      50.000000       2.000000       1552.342500   \n",
       "50%       100.000000     100.000000       4.000000       2309.110000   \n",
       "75%       149.000000     150.000000       6.000000       3091.250000   \n",
       "max       198.000000     198.000000       7.000000       7050.330000   \n",
       "\n",
       "       standard_deviation_travel_time  geometric_mean_travel_time  \\\n",
       "count                   267662.000000               267662.000000   \n",
       "mean                       794.949807                 2215.896753   \n",
       "std                        332.492531                 1037.938717   \n",
       "min                         53.560000                   23.180000   \n",
       "25%                        552.510000                 1456.962500   \n",
       "50%                        748.205000                 2186.275000   \n",
       "75%                        990.905000                 2932.885000   \n",
       "max                       3958.520000                 6806.120000   \n",
       "\n",
       "       geometric_standard_deviation_travel_time  mean_travel_time_mins  \\\n",
       "count                             267662.000000          267662.000000   \n",
       "mean                                   1.456126              39.135080   \n",
       "std                                    0.257603              18.015992   \n",
       "min                                    1.060000               1.112667   \n",
       "25%                                    1.340000              25.872375   \n",
       "50%                                    1.400000              38.485167   \n",
       "75%                                    1.480000              51.520833   \n",
       "max                                    8.860000             117.505500   \n",
       "\n",
       "       standard_deviation_travel_time_mins  geometric_mean_travel_time_mins  \n",
       "count                        267662.000000                    267662.000000  \n",
       "mean                             13.249163                        36.931613  \n",
       "std                               5.541542                        17.298979  \n",
       "min                               0.892667                         0.386333  \n",
       "25%                               9.208500                        24.282708  \n",
       "50%                              12.470083                        36.437917  \n",
       "75%                              16.515083                        48.881417  \n",
       "max                              65.975333                       113.435333  "
      ]
     },
     "execution_count": 66,
     "metadata": {},
     "output_type": "execute_result"
    }
   ],
   "source": [
    "Weekly_data.describe()"
   ]
  },
  {
   "cell_type": "code",
   "execution_count": null,
   "metadata": {},
   "outputs": [],
   "source": []
  },
  {
   "cell_type": "code",
   "execution_count": 67,
   "metadata": {},
   "outputs": [],
   "source": [
    "#hourly_data1 = pd.merge(hourly_data1,blr_wards1, on='sourceid', how='left')\n",
    "#hourly_data1.set_index('sourceid').join(blr_wards1.set_index('sourceid'))\n",
    "#hourly_data1 = hourly_data1.merge(hourly_data1, blr_wards1, on='sourceid', how='left')\n",
    "#hourly_data1 = hourly_data1.merge(blr_wards1, on='sourceid', how='left')\n",
    "#hourly_data1 = hourly_data1.merge(blr_wards2, on=\"sourceid\",how=\"left\")\n",
    "\n",
    "hourly_data1 = hourly_data1.merge(blr_wards2, on='sourceid', how='left')\n",
    "Weekly_data = Weekly_data.merge(blr_wards2, on='sourceid', how='left')"
   ]
  },
  {
   "cell_type": "code",
   "execution_count": 68,
   "metadata": {},
   "outputs": [
    {
     "data": {
      "text/plain": [
       "(854482, 11)"
      ]
     },
     "execution_count": 68,
     "metadata": {},
     "output_type": "execute_result"
    }
   ],
   "source": [
    "hourly_data1.shape"
   ]
  },
  {
   "cell_type": "code",
   "execution_count": 69,
   "metadata": {},
   "outputs": [
    {
     "data": {
      "text/html": [
       "<div>\n",
       "<style scoped>\n",
       "    .dataframe tbody tr th:only-of-type {\n",
       "        vertical-align: middle;\n",
       "    }\n",
       "\n",
       "    .dataframe tbody tr th {\n",
       "        vertical-align: top;\n",
       "    }\n",
       "\n",
       "    .dataframe thead th {\n",
       "        text-align: right;\n",
       "    }\n",
       "</style>\n",
       "<table border=\"1\" class=\"dataframe\">\n",
       "  <thead>\n",
       "    <tr style=\"text-align: right;\">\n",
       "      <th></th>\n",
       "      <th>sourceid</th>\n",
       "      <th>dstid</th>\n",
       "      <th>hod</th>\n",
       "      <th>mean_travel_time</th>\n",
       "      <th>standard_deviation_travel_time</th>\n",
       "      <th>geometric_mean_travel_time</th>\n",
       "      <th>geometric_standard_deviation_travel_time</th>\n",
       "      <th>mean_travel_time_mins</th>\n",
       "      <th>standard_deviation_travel_time_mins</th>\n",
       "      <th>geometric_mean_travel_time_mins</th>\n",
       "      <th>source_name</th>\n",
       "    </tr>\n",
       "  </thead>\n",
       "  <tbody>\n",
       "    <tr>\n",
       "      <td>0</td>\n",
       "      <td>143</td>\n",
       "      <td>141</td>\n",
       "      <td>7</td>\n",
       "      <td>314.30</td>\n",
       "      <td>197.14</td>\n",
       "      <td>277.05</td>\n",
       "      <td>1.60</td>\n",
       "      <td>5.238333</td>\n",
       "      <td>3.285667</td>\n",
       "      <td>4.617500</td>\n",
       "      <td>0 Subbarama Chetty Road, NR Colony, Basavanagu...</td>\n",
       "    </tr>\n",
       "    <tr>\n",
       "      <td>1</td>\n",
       "      <td>187</td>\n",
       "      <td>14</td>\n",
       "      <td>22</td>\n",
       "      <td>1787.73</td>\n",
       "      <td>654.18</td>\n",
       "      <td>1689.27</td>\n",
       "      <td>1.39</td>\n",
       "      <td>29.795500</td>\n",
       "      <td>10.903000</td>\n",
       "      <td>28.154500</td>\n",
       "      <td>0 Kithaganur Main Road, Thambu Chetty Palya, B...</td>\n",
       "    </tr>\n",
       "    <tr>\n",
       "      <td>2</td>\n",
       "      <td>186</td>\n",
       "      <td>24</td>\n",
       "      <td>22</td>\n",
       "      <td>1060.87</td>\n",
       "      <td>537.68</td>\n",
       "      <td>1009.87</td>\n",
       "      <td>1.31</td>\n",
       "      <td>17.681167</td>\n",
       "      <td>8.961333</td>\n",
       "      <td>16.831167</td>\n",
       "      <td>NITTE Meenakshi College Road, BSF Campus, Yela...</td>\n",
       "    </tr>\n",
       "    <tr>\n",
       "      <td>3</td>\n",
       "      <td>146</td>\n",
       "      <td>111</td>\n",
       "      <td>7</td>\n",
       "      <td>1433.31</td>\n",
       "      <td>462.36</td>\n",
       "      <td>1377.88</td>\n",
       "      <td>1.30</td>\n",
       "      <td>23.888500</td>\n",
       "      <td>7.706000</td>\n",
       "      <td>22.964667</td>\n",
       "      <td>6th Cross Road, Ashok Nagar, Banashankari Stag...</td>\n",
       "    </tr>\n",
       "    <tr>\n",
       "      <td>4</td>\n",
       "      <td>182</td>\n",
       "      <td>64</td>\n",
       "      <td>22</td>\n",
       "      <td>3131.07</td>\n",
       "      <td>1195.34</td>\n",
       "      <td>2955.22</td>\n",
       "      <td>1.40</td>\n",
       "      <td>52.184500</td>\n",
       "      <td>19.922333</td>\n",
       "      <td>49.253667</td>\n",
       "      <td>469/2, Begur, Bengaluru</td>\n",
       "    </tr>\n",
       "  </tbody>\n",
       "</table>\n",
       "</div>"
      ],
      "text/plain": [
       "   sourceid  dstid  hod  mean_travel_time  standard_deviation_travel_time  \\\n",
       "0       143    141    7            314.30                          197.14   \n",
       "1       187     14   22           1787.73                          654.18   \n",
       "2       186     24   22           1060.87                          537.68   \n",
       "3       146    111    7           1433.31                          462.36   \n",
       "4       182     64   22           3131.07                         1195.34   \n",
       "\n",
       "   geometric_mean_travel_time  geometric_standard_deviation_travel_time  \\\n",
       "0                      277.05                                      1.60   \n",
       "1                     1689.27                                      1.39   \n",
       "2                     1009.87                                      1.31   \n",
       "3                     1377.88                                      1.30   \n",
       "4                     2955.22                                      1.40   \n",
       "\n",
       "   mean_travel_time_mins  standard_deviation_travel_time_mins  \\\n",
       "0               5.238333                             3.285667   \n",
       "1              29.795500                            10.903000   \n",
       "2              17.681167                             8.961333   \n",
       "3              23.888500                             7.706000   \n",
       "4              52.184500                            19.922333   \n",
       "\n",
       "   geometric_mean_travel_time_mins  \\\n",
       "0                         4.617500   \n",
       "1                        28.154500   \n",
       "2                        16.831167   \n",
       "3                        22.964667   \n",
       "4                        49.253667   \n",
       "\n",
       "                                         source_name  \n",
       "0  0 Subbarama Chetty Road, NR Colony, Basavanagu...  \n",
       "1  0 Kithaganur Main Road, Thambu Chetty Palya, B...  \n",
       "2  NITTE Meenakshi College Road, BSF Campus, Yela...  \n",
       "3  6th Cross Road, Ashok Nagar, Banashankari Stag...  \n",
       "4                            469/2, Begur, Bengaluru  "
      ]
     },
     "execution_count": 69,
     "metadata": {},
     "output_type": "execute_result"
    }
   ],
   "source": [
    "hourly_data1.head()"
   ]
  },
  {
   "cell_type": "code",
   "execution_count": 70,
   "metadata": {},
   "outputs": [
    {
     "data": {
      "text/plain": [
       "sourceid                                       198\n",
       "dstid                                          198\n",
       "hod                                             24\n",
       "mean_travel_time                            371038\n",
       "standard_deviation_travel_time              136160\n",
       "geometric_mean_travel_time                  370445\n",
       "geometric_standard_deviation_travel_time       534\n",
       "mean_travel_time_mins                       371038\n",
       "standard_deviation_travel_time_mins         136160\n",
       "geometric_mean_travel_time_mins             370445\n",
       "source_name                                    198\n",
       "dtype: int64"
      ]
     },
     "execution_count": 70,
     "metadata": {},
     "output_type": "execute_result"
    }
   ],
   "source": [
    "hourly_data1.nunique()"
   ]
  },
  {
   "cell_type": "code",
   "execution_count": 71,
   "metadata": {},
   "outputs": [
    {
     "data": {
      "text/plain": [
       "Index(['dstid', 'destination_name'], dtype='object')"
      ]
     },
     "execution_count": 71,
     "metadata": {},
     "output_type": "execute_result"
    }
   ],
   "source": [
    "blr_wards2.columns = [\"dstid\",\"destination_name\"]\n",
    "blr_wards2.columns"
   ]
  },
  {
   "cell_type": "code",
   "execution_count": 72,
   "metadata": {},
   "outputs": [],
   "source": [
    "hourly_data1 = hourly_data1.merge(blr_wards2, on='dstid', how='left')\n",
    "Weekly_data = Weekly_data.merge(blr_wards2, on='dstid', how='left')"
   ]
  },
  {
   "cell_type": "code",
   "execution_count": 73,
   "metadata": {},
   "outputs": [
    {
     "data": {
      "text/plain": [
       "sourceid                                      int64\n",
       "dstid                                         int64\n",
       "hod                                           int64\n",
       "mean_travel_time                            float64\n",
       "standard_deviation_travel_time              float64\n",
       "geometric_mean_travel_time                  float64\n",
       "geometric_standard_deviation_travel_time    float64\n",
       "mean_travel_time_mins                       float64\n",
       "standard_deviation_travel_time_mins         float64\n",
       "geometric_mean_travel_time_mins             float64\n",
       "source_name                                  object\n",
       "destination_name                             object\n",
       "dtype: object"
      ]
     },
     "execution_count": 73,
     "metadata": {},
     "output_type": "execute_result"
    }
   ],
   "source": [
    "hourly_data1.dtypes"
   ]
  },
  {
   "cell_type": "code",
   "execution_count": 74,
   "metadata": {},
   "outputs": [],
   "source": [
    "hourly_data1 = hourly_data1.reindex(columns=['sourceid','source_name','dstid','destination_name','hod','mean_travel_time','standard_deviation_travel_time','geometric_mean_travel_time','geometric_standard_deviation_travel_time','mean_travel_time_mins','standard_deviation_travel_time_mins','geometric_mean_travel_time_mins'])"
   ]
  },
  {
   "cell_type": "code",
   "execution_count": 75,
   "metadata": {},
   "outputs": [
    {
     "data": {
      "text/plain": [
       "sourceid                                      int64\n",
       "dstid                                         int64\n",
       "dow                                           int64\n",
       "mean_travel_time                            float64\n",
       "standard_deviation_travel_time              float64\n",
       "geometric_mean_travel_time                  float64\n",
       "geometric_standard_deviation_travel_time    float64\n",
       "mean_travel_time_mins                       float64\n",
       "standard_deviation_travel_time_mins         float64\n",
       "geometric_mean_travel_time_mins             float64\n",
       "source_name                                  object\n",
       "destination_name                             object\n",
       "dtype: object"
      ]
     },
     "execution_count": 75,
     "metadata": {},
     "output_type": "execute_result"
    }
   ],
   "source": [
    "Weekly_data.dtypes"
   ]
  },
  {
   "cell_type": "code",
   "execution_count": 76,
   "metadata": {},
   "outputs": [],
   "source": [
    "Weekly_data = Weekly_data.reindex(columns=['sourceid','source_name','dstid','destination_name','dow','mean_travel_time','standard_deviation_travel_time','geometric_mean_travel_time','geometric_standard_deviation_travel_time','mean_travel_time_mins','standard_deviation_travel_time_mins','geometric_mean_travel_time_mins'])"
   ]
  },
  {
   "cell_type": "code",
   "execution_count": 77,
   "metadata": {},
   "outputs": [
    {
     "data": {
      "text/plain": [
       "sourceid                                      int64\n",
       "source_name                                  object\n",
       "dstid                                         int64\n",
       "destination_name                             object\n",
       "hod                                           int64\n",
       "mean_travel_time                            float64\n",
       "standard_deviation_travel_time              float64\n",
       "geometric_mean_travel_time                  float64\n",
       "geometric_standard_deviation_travel_time    float64\n",
       "mean_travel_time_mins                       float64\n",
       "standard_deviation_travel_time_mins         float64\n",
       "geometric_mean_travel_time_mins             float64\n",
       "dtype: object"
      ]
     },
     "execution_count": 77,
     "metadata": {},
     "output_type": "execute_result"
    }
   ],
   "source": [
    "hourly_data1.dtypes"
   ]
  },
  {
   "cell_type": "code",
   "execution_count": 78,
   "metadata": {},
   "outputs": [
    {
     "data": {
      "text/plain": [
       "Late Night(upto 3)        86591\n",
       "Early Morning (4-7)      133784\n",
       "Late Morning (8-11)      149126\n",
       "Afternoon (12-14)        112780\n",
       "Early evening (15-16)     75548\n",
       "Evening (17-19)          113101\n",
       "Night (20-24)            149007\n",
       "Name: hod_category, dtype: int64"
      ]
     },
     "execution_count": 78,
     "metadata": {},
     "output_type": "execute_result"
    }
   ],
   "source": [
    "hourly_data1['hod_category']=pd.cut(x=hourly_data1['hod'],\n",
    "                               bins=[0, 3, 7, 11, 14, 16, 19, 24], \n",
    "                               labels=['Late Night(upto 3)', 'Early Morning (4-7)','Late Morning (8-11)','Afternoon (12-14)',\n",
    "                                       'Early evening (15-16)','Evening (17-19)','Night (20-24)'])\n",
    "hourly_data1['hod_category'].value_counts(sort=False)"
   ]
  },
  {
   "cell_type": "code",
   "execution_count": 79,
   "metadata": {},
   "outputs": [
    {
     "data": {
      "text/plain": [
       "Sunday       38172\n",
       "Monday       38130\n",
       "Tuesday      38241\n",
       "Wednesday    38206\n",
       "Thursday     38210\n",
       "Friday       38316\n",
       "Saturday     38387\n",
       "Name: dow_category, dtype: int64"
      ]
     },
     "execution_count": 79,
     "metadata": {},
     "output_type": "execute_result"
    }
   ],
   "source": [
    "Weekly_data['dow_category']=pd.cut(x=Weekly_data['dow'],\n",
    "                               bins=[0, 1, 2, 3, 4, 5, 6, 7], \n",
    "                               labels=['Sunday','Monday','Tuesday','Wednesday','Thursday','Friday','Saturday'])\n",
    "Weekly_data['dow_category'].value_counts(sort=False)"
   ]
  },
  {
   "cell_type": "code",
   "execution_count": 80,
   "metadata": {},
   "outputs": [
    {
     "data": {
      "text/plain": [
       "sourceid                                       int64\n",
       "source_name                                   object\n",
       "dstid                                          int64\n",
       "destination_name                              object\n",
       "dow                                            int64\n",
       "mean_travel_time                             float64\n",
       "standard_deviation_travel_time               float64\n",
       "geometric_mean_travel_time                   float64\n",
       "geometric_standard_deviation_travel_time     float64\n",
       "mean_travel_time_mins                        float64\n",
       "standard_deviation_travel_time_mins          float64\n",
       "geometric_mean_travel_time_mins              float64\n",
       "dow_category                                category\n",
       "dtype: object"
      ]
     },
     "execution_count": 80,
     "metadata": {},
     "output_type": "execute_result"
    }
   ],
   "source": [
    "Weekly_data.dtypes"
   ]
  },
  {
   "cell_type": "code",
   "execution_count": 81,
   "metadata": {},
   "outputs": [
    {
     "data": {
      "text/html": [
       "<div>\n",
       "<style scoped>\n",
       "    .dataframe tbody tr th:only-of-type {\n",
       "        vertical-align: middle;\n",
       "    }\n",
       "\n",
       "    .dataframe tbody tr th {\n",
       "        vertical-align: top;\n",
       "    }\n",
       "\n",
       "    .dataframe thead th {\n",
       "        text-align: right;\n",
       "    }\n",
       "</style>\n",
       "<table border=\"1\" class=\"dataframe\">\n",
       "  <thead>\n",
       "    <tr style=\"text-align: right;\">\n",
       "      <th></th>\n",
       "      <th>sourceid</th>\n",
       "      <th>dstid</th>\n",
       "      <th>hod</th>\n",
       "      <th>mean_travel_time</th>\n",
       "      <th>standard_deviation_travel_time</th>\n",
       "      <th>geometric_mean_travel_time</th>\n",
       "      <th>geometric_standard_deviation_travel_time</th>\n",
       "      <th>mean_travel_time_mins</th>\n",
       "      <th>standard_deviation_travel_time_mins</th>\n",
       "      <th>geometric_mean_travel_time_mins</th>\n",
       "    </tr>\n",
       "  </thead>\n",
       "  <tbody>\n",
       "    <tr>\n",
       "      <td>count</td>\n",
       "      <td>854482.000000</td>\n",
       "      <td>854482.000000</td>\n",
       "      <td>854482.000000</td>\n",
       "      <td>854482.000000</td>\n",
       "      <td>854482.000000</td>\n",
       "      <td>854482.000000</td>\n",
       "      <td>854482.000000</td>\n",
       "      <td>854482.000000</td>\n",
       "      <td>854482.000000</td>\n",
       "      <td>854482.000000</td>\n",
       "    </tr>\n",
       "    <tr>\n",
       "      <td>mean</td>\n",
       "      <td>100.098070</td>\n",
       "      <td>100.369252</td>\n",
       "      <td>11.947917</td>\n",
       "      <td>2156.821809</td>\n",
       "      <td>611.681541</td>\n",
       "      <td>2072.412810</td>\n",
       "      <td>1.369011</td>\n",
       "      <td>35.947030</td>\n",
       "      <td>10.194692</td>\n",
       "      <td>34.540213</td>\n",
       "    </tr>\n",
       "    <tr>\n",
       "      <td>std</td>\n",
       "      <td>56.860746</td>\n",
       "      <td>57.365489</td>\n",
       "      <td>6.796431</td>\n",
       "      <td>1159.185407</td>\n",
       "      <td>316.081851</td>\n",
       "      <td>1134.975288</td>\n",
       "      <td>0.275560</td>\n",
       "      <td>19.319757</td>\n",
       "      <td>5.268031</td>\n",
       "      <td>18.916255</td>\n",
       "    </tr>\n",
       "    <tr>\n",
       "      <td>min</td>\n",
       "      <td>1.000000</td>\n",
       "      <td>1.000000</td>\n",
       "      <td>0.000000</td>\n",
       "      <td>29.170000</td>\n",
       "      <td>40.140000</td>\n",
       "      <td>12.390000</td>\n",
       "      <td>1.030000</td>\n",
       "      <td>0.486167</td>\n",
       "      <td>0.669000</td>\n",
       "      <td>0.206500</td>\n",
       "    </tr>\n",
       "    <tr>\n",
       "      <td>25%</td>\n",
       "      <td>51.000000</td>\n",
       "      <td>50.000000</td>\n",
       "      <td>6.000000</td>\n",
       "      <td>1278.090000</td>\n",
       "      <td>397.200000</td>\n",
       "      <td>1214.300000</td>\n",
       "      <td>1.240000</td>\n",
       "      <td>21.301500</td>\n",
       "      <td>6.620000</td>\n",
       "      <td>20.238333</td>\n",
       "    </tr>\n",
       "    <tr>\n",
       "      <td>50%</td>\n",
       "      <td>100.000000</td>\n",
       "      <td>101.000000</td>\n",
       "      <td>12.000000</td>\n",
       "      <td>1987.550000</td>\n",
       "      <td>544.570000</td>\n",
       "      <td>1911.455000</td>\n",
       "      <td>1.300000</td>\n",
       "      <td>33.125833</td>\n",
       "      <td>9.076167</td>\n",
       "      <td>31.857583</td>\n",
       "    </tr>\n",
       "    <tr>\n",
       "      <td>75%</td>\n",
       "      <td>149.000000</td>\n",
       "      <td>150.000000</td>\n",
       "      <td>18.000000</td>\n",
       "      <td>2898.630000</td>\n",
       "      <td>747.050000</td>\n",
       "      <td>2803.967500</td>\n",
       "      <td>1.390000</td>\n",
       "      <td>48.310500</td>\n",
       "      <td>12.450833</td>\n",
       "      <td>46.732792</td>\n",
       "    </tr>\n",
       "    <tr>\n",
       "      <td>max</td>\n",
       "      <td>198.000000</td>\n",
       "      <td>198.000000</td>\n",
       "      <td>23.000000</td>\n",
       "      <td>10873.820000</td>\n",
       "      <td>4728.510000</td>\n",
       "      <td>10672.840000</td>\n",
       "      <td>15.450000</td>\n",
       "      <td>181.230333</td>\n",
       "      <td>78.808500</td>\n",
       "      <td>177.880667</td>\n",
       "    </tr>\n",
       "  </tbody>\n",
       "</table>\n",
       "</div>"
      ],
      "text/plain": [
       "            sourceid          dstid            hod  mean_travel_time  \\\n",
       "count  854482.000000  854482.000000  854482.000000     854482.000000   \n",
       "mean      100.098070     100.369252      11.947917       2156.821809   \n",
       "std        56.860746      57.365489       6.796431       1159.185407   \n",
       "min         1.000000       1.000000       0.000000         29.170000   \n",
       "25%        51.000000      50.000000       6.000000       1278.090000   \n",
       "50%       100.000000     101.000000      12.000000       1987.550000   \n",
       "75%       149.000000     150.000000      18.000000       2898.630000   \n",
       "max       198.000000     198.000000      23.000000      10873.820000   \n",
       "\n",
       "       standard_deviation_travel_time  geometric_mean_travel_time  \\\n",
       "count                   854482.000000               854482.000000   \n",
       "mean                       611.681541                 2072.412810   \n",
       "std                        316.081851                 1134.975288   \n",
       "min                         40.140000                   12.390000   \n",
       "25%                        397.200000                 1214.300000   \n",
       "50%                        544.570000                 1911.455000   \n",
       "75%                        747.050000                 2803.967500   \n",
       "max                       4728.510000                10672.840000   \n",
       "\n",
       "       geometric_standard_deviation_travel_time  mean_travel_time_mins  \\\n",
       "count                             854482.000000          854482.000000   \n",
       "mean                                   1.369011              35.947030   \n",
       "std                                    0.275560              19.319757   \n",
       "min                                    1.030000               0.486167   \n",
       "25%                                    1.240000              21.301500   \n",
       "50%                                    1.300000              33.125833   \n",
       "75%                                    1.390000              48.310500   \n",
       "max                                   15.450000             181.230333   \n",
       "\n",
       "       standard_deviation_travel_time_mins  geometric_mean_travel_time_mins  \n",
       "count                        854482.000000                    854482.000000  \n",
       "mean                             10.194692                        34.540213  \n",
       "std                               5.268031                        18.916255  \n",
       "min                               0.669000                         0.206500  \n",
       "25%                               6.620000                        20.238333  \n",
       "50%                               9.076167                        31.857583  \n",
       "75%                              12.450833                        46.732792  \n",
       "max                              78.808500                       177.880667  "
      ]
     },
     "execution_count": 81,
     "metadata": {},
     "output_type": "execute_result"
    }
   ],
   "source": [
    "hourly_data1.describe()"
   ]
  },
  {
   "cell_type": "code",
   "execution_count": 82,
   "metadata": {},
   "outputs": [
    {
     "data": {
      "text/html": [
       "<div>\n",
       "<style scoped>\n",
       "    .dataframe tbody tr th:only-of-type {\n",
       "        vertical-align: middle;\n",
       "    }\n",
       "\n",
       "    .dataframe tbody tr th {\n",
       "        vertical-align: top;\n",
       "    }\n",
       "\n",
       "    .dataframe thead th {\n",
       "        text-align: right;\n",
       "    }\n",
       "</style>\n",
       "<table border=\"1\" class=\"dataframe\">\n",
       "  <thead>\n",
       "    <tr style=\"text-align: right;\">\n",
       "      <th></th>\n",
       "      <th>sourceid</th>\n",
       "      <th>dstid</th>\n",
       "      <th>dow</th>\n",
       "      <th>mean_travel_time</th>\n",
       "      <th>standard_deviation_travel_time</th>\n",
       "      <th>geometric_mean_travel_time</th>\n",
       "      <th>geometric_standard_deviation_travel_time</th>\n",
       "      <th>mean_travel_time_mins</th>\n",
       "      <th>standard_deviation_travel_time_mins</th>\n",
       "      <th>geometric_mean_travel_time_mins</th>\n",
       "    </tr>\n",
       "  </thead>\n",
       "  <tbody>\n",
       "    <tr>\n",
       "      <td>count</td>\n",
       "      <td>267662.000000</td>\n",
       "      <td>267662.000000</td>\n",
       "      <td>267662.000000</td>\n",
       "      <td>267662.000000</td>\n",
       "      <td>267662.000000</td>\n",
       "      <td>267662.000000</td>\n",
       "      <td>267662.000000</td>\n",
       "      <td>267662.000000</td>\n",
       "      <td>267662.000000</td>\n",
       "      <td>267662.000000</td>\n",
       "    </tr>\n",
       "    <tr>\n",
       "      <td>mean</td>\n",
       "      <td>99.726360</td>\n",
       "      <td>99.768663</td>\n",
       "      <td>4.003684</td>\n",
       "      <td>2348.104783</td>\n",
       "      <td>794.949807</td>\n",
       "      <td>2215.896753</td>\n",
       "      <td>1.456126</td>\n",
       "      <td>39.135080</td>\n",
       "      <td>13.249163</td>\n",
       "      <td>36.931613</td>\n",
       "    </tr>\n",
       "    <tr>\n",
       "      <td>std</td>\n",
       "      <td>57.146814</td>\n",
       "      <td>57.339087</td>\n",
       "      <td>2.000577</td>\n",
       "      <td>1080.959491</td>\n",
       "      <td>332.492531</td>\n",
       "      <td>1037.938717</td>\n",
       "      <td>0.257603</td>\n",
       "      <td>18.015992</td>\n",
       "      <td>5.541542</td>\n",
       "      <td>17.298979</td>\n",
       "    </tr>\n",
       "    <tr>\n",
       "      <td>min</td>\n",
       "      <td>1.000000</td>\n",
       "      <td>1.000000</td>\n",
       "      <td>1.000000</td>\n",
       "      <td>66.760000</td>\n",
       "      <td>53.560000</td>\n",
       "      <td>23.180000</td>\n",
       "      <td>1.060000</td>\n",
       "      <td>1.112667</td>\n",
       "      <td>0.892667</td>\n",
       "      <td>0.386333</td>\n",
       "    </tr>\n",
       "    <tr>\n",
       "      <td>25%</td>\n",
       "      <td>50.000000</td>\n",
       "      <td>50.000000</td>\n",
       "      <td>2.000000</td>\n",
       "      <td>1552.342500</td>\n",
       "      <td>552.510000</td>\n",
       "      <td>1456.962500</td>\n",
       "      <td>1.340000</td>\n",
       "      <td>25.872375</td>\n",
       "      <td>9.208500</td>\n",
       "      <td>24.282708</td>\n",
       "    </tr>\n",
       "    <tr>\n",
       "      <td>50%</td>\n",
       "      <td>100.000000</td>\n",
       "      <td>100.000000</td>\n",
       "      <td>4.000000</td>\n",
       "      <td>2309.110000</td>\n",
       "      <td>748.205000</td>\n",
       "      <td>2186.275000</td>\n",
       "      <td>1.400000</td>\n",
       "      <td>38.485167</td>\n",
       "      <td>12.470083</td>\n",
       "      <td>36.437917</td>\n",
       "    </tr>\n",
       "    <tr>\n",
       "      <td>75%</td>\n",
       "      <td>149.000000</td>\n",
       "      <td>150.000000</td>\n",
       "      <td>6.000000</td>\n",
       "      <td>3091.250000</td>\n",
       "      <td>990.905000</td>\n",
       "      <td>2932.885000</td>\n",
       "      <td>1.480000</td>\n",
       "      <td>51.520833</td>\n",
       "      <td>16.515083</td>\n",
       "      <td>48.881417</td>\n",
       "    </tr>\n",
       "    <tr>\n",
       "      <td>max</td>\n",
       "      <td>198.000000</td>\n",
       "      <td>198.000000</td>\n",
       "      <td>7.000000</td>\n",
       "      <td>7050.330000</td>\n",
       "      <td>3958.520000</td>\n",
       "      <td>6806.120000</td>\n",
       "      <td>8.860000</td>\n",
       "      <td>117.505500</td>\n",
       "      <td>65.975333</td>\n",
       "      <td>113.435333</td>\n",
       "    </tr>\n",
       "  </tbody>\n",
       "</table>\n",
       "</div>"
      ],
      "text/plain": [
       "            sourceid          dstid            dow  mean_travel_time  \\\n",
       "count  267662.000000  267662.000000  267662.000000     267662.000000   \n",
       "mean       99.726360      99.768663       4.003684       2348.104783   \n",
       "std        57.146814      57.339087       2.000577       1080.959491   \n",
       "min         1.000000       1.000000       1.000000         66.760000   \n",
       "25%        50.000000      50.000000       2.000000       1552.342500   \n",
       "50%       100.000000     100.000000       4.000000       2309.110000   \n",
       "75%       149.000000     150.000000       6.000000       3091.250000   \n",
       "max       198.000000     198.000000       7.000000       7050.330000   \n",
       "\n",
       "       standard_deviation_travel_time  geometric_mean_travel_time  \\\n",
       "count                   267662.000000               267662.000000   \n",
       "mean                       794.949807                 2215.896753   \n",
       "std                        332.492531                 1037.938717   \n",
       "min                         53.560000                   23.180000   \n",
       "25%                        552.510000                 1456.962500   \n",
       "50%                        748.205000                 2186.275000   \n",
       "75%                        990.905000                 2932.885000   \n",
       "max                       3958.520000                 6806.120000   \n",
       "\n",
       "       geometric_standard_deviation_travel_time  mean_travel_time_mins  \\\n",
       "count                             267662.000000          267662.000000   \n",
       "mean                                   1.456126              39.135080   \n",
       "std                                    0.257603              18.015992   \n",
       "min                                    1.060000               1.112667   \n",
       "25%                                    1.340000              25.872375   \n",
       "50%                                    1.400000              38.485167   \n",
       "75%                                    1.480000              51.520833   \n",
       "max                                    8.860000             117.505500   \n",
       "\n",
       "       standard_deviation_travel_time_mins  geometric_mean_travel_time_mins  \n",
       "count                        267662.000000                    267662.000000  \n",
       "mean                             13.249163                        36.931613  \n",
       "std                               5.541542                        17.298979  \n",
       "min                               0.892667                         0.386333  \n",
       "25%                               9.208500                        24.282708  \n",
       "50%                              12.470083                        36.437917  \n",
       "75%                              16.515083                        48.881417  \n",
       "max                              65.975333                       113.435333  "
      ]
     },
     "execution_count": 82,
     "metadata": {},
     "output_type": "execute_result"
    }
   ],
   "source": [
    "Weekly_data.describe()"
   ]
  },
  {
   "cell_type": "code",
   "execution_count": 108,
   "metadata": {},
   "outputs": [
    {
     "name": "stdout",
     "output_type": "stream",
     "text": [
      "Enter Source ID:114\n"
     ]
    }
   ],
   "source": [
    "a=int(input(\"Enter Source ID:\"))"
   ]
  },
  {
   "cell_type": "code",
   "execution_count": 109,
   "metadata": {},
   "outputs": [
    {
     "name": "stdout",
     "output_type": "stream",
     "text": [
      "Enter Destination ID:47\n"
     ]
    }
   ],
   "source": [
    "b=int(input(\"Enter Destination ID:\"))"
   ]
  },
  {
   "cell_type": "code",
   "execution_count": 110,
   "metadata": {},
   "outputs": [],
   "source": [
    "newdf1 = Weekly_data[(Weekly_data.sourceid == a) & (Weekly_data.dstid == b)]"
   ]
  },
  {
   "cell_type": "code",
   "execution_count": 111,
   "metadata": {},
   "outputs": [],
   "source": [
    "newdf = hourly_data1[(hourly_data1.sourceid == a) & (hourly_data1.dstid == b)]"
   ]
  },
  {
   "cell_type": "code",
   "execution_count": 112,
   "metadata": {},
   "outputs": [],
   "source": [
    "s=newdf['source_name'].unique()\n",
    "d=newdf['destination_name'].unique()"
   ]
  },
  {
   "cell_type": "code",
   "execution_count": 113,
   "metadata": {},
   "outputs": [],
   "source": [
    "##################     Average travel time by day   ########################################"
   ]
  },
  {
   "cell_type": "code",
   "execution_count": 114,
   "metadata": {
    "scrolled": false
   },
   "outputs": [
    {
     "data": {
      "text/html": [
       "<div>\n",
       "<style scoped>\n",
       "    .dataframe tbody tr th:only-of-type {\n",
       "        vertical-align: middle;\n",
       "    }\n",
       "\n",
       "    .dataframe tbody tr th {\n",
       "        vertical-align: top;\n",
       "    }\n",
       "\n",
       "    .dataframe thead th {\n",
       "        text-align: right;\n",
       "    }\n",
       "</style>\n",
       "<table border=\"1\" class=\"dataframe\">\n",
       "  <thead>\n",
       "    <tr style=\"text-align: right;\">\n",
       "      <th></th>\n",
       "      <th>sourceid</th>\n",
       "      <th>dstid</th>\n",
       "      <th>dow</th>\n",
       "      <th>geometric_standard_deviation_travel_time</th>\n",
       "      <th>mean_travel_time_mins</th>\n",
       "      <th>standard_deviation_travel_time_mins</th>\n",
       "      <th>geometric_mean_travel_time_mins</th>\n",
       "    </tr>\n",
       "  </thead>\n",
       "  <tbody>\n",
       "    <tr>\n",
       "      <td>count</td>\n",
       "      <td>7.0</td>\n",
       "      <td>7.0</td>\n",
       "      <td>7.000000</td>\n",
       "      <td>7.00000</td>\n",
       "      <td>7.000000</td>\n",
       "      <td>7.000000</td>\n",
       "      <td>7.000000</td>\n",
       "    </tr>\n",
       "    <tr>\n",
       "      <td>mean</td>\n",
       "      <td>114.0</td>\n",
       "      <td>47.0</td>\n",
       "      <td>4.000000</td>\n",
       "      <td>1.33000</td>\n",
       "      <td>24.821595</td>\n",
       "      <td>7.375429</td>\n",
       "      <td>23.824071</td>\n",
       "    </tr>\n",
       "    <tr>\n",
       "      <td>std</td>\n",
       "      <td>0.0</td>\n",
       "      <td>0.0</td>\n",
       "      <td>2.160247</td>\n",
       "      <td>0.01633</td>\n",
       "      <td>1.076759</td>\n",
       "      <td>0.578526</td>\n",
       "      <td>0.999837</td>\n",
       "    </tr>\n",
       "    <tr>\n",
       "      <td>min</td>\n",
       "      <td>114.0</td>\n",
       "      <td>47.0</td>\n",
       "      <td>1.000000</td>\n",
       "      <td>1.30000</td>\n",
       "      <td>23.717167</td>\n",
       "      <td>6.387833</td>\n",
       "      <td>22.908833</td>\n",
       "    </tr>\n",
       "    <tr>\n",
       "      <td>25%</td>\n",
       "      <td>114.0</td>\n",
       "      <td>47.0</td>\n",
       "      <td>2.500000</td>\n",
       "      <td>1.32500</td>\n",
       "      <td>24.055583</td>\n",
       "      <td>7.036417</td>\n",
       "      <td>23.047167</td>\n",
       "    </tr>\n",
       "    <tr>\n",
       "      <td>50%</td>\n",
       "      <td>114.0</td>\n",
       "      <td>47.0</td>\n",
       "      <td>4.000000</td>\n",
       "      <td>1.33000</td>\n",
       "      <td>24.757833</td>\n",
       "      <td>7.647167</td>\n",
       "      <td>23.744667</td>\n",
       "    </tr>\n",
       "    <tr>\n",
       "      <td>75%</td>\n",
       "      <td>114.0</td>\n",
       "      <td>47.0</td>\n",
       "      <td>5.500000</td>\n",
       "      <td>1.34000</td>\n",
       "      <td>25.127417</td>\n",
       "      <td>7.725500</td>\n",
       "      <td>24.129083</td>\n",
       "    </tr>\n",
       "    <tr>\n",
       "      <td>max</td>\n",
       "      <td>114.0</td>\n",
       "      <td>47.0</td>\n",
       "      <td>7.000000</td>\n",
       "      <td>1.35000</td>\n",
       "      <td>26.910167</td>\n",
       "      <td>8.069167</td>\n",
       "      <td>25.762500</td>\n",
       "    </tr>\n",
       "  </tbody>\n",
       "</table>\n",
       "</div>"
      ],
      "text/plain": [
       "       sourceid  dstid       dow  geometric_standard_deviation_travel_time  \\\n",
       "count       7.0    7.0  7.000000                                   7.00000   \n",
       "mean      114.0   47.0  4.000000                                   1.33000   \n",
       "std         0.0    0.0  2.160247                                   0.01633   \n",
       "min       114.0   47.0  1.000000                                   1.30000   \n",
       "25%       114.0   47.0  2.500000                                   1.32500   \n",
       "50%       114.0   47.0  4.000000                                   1.33000   \n",
       "75%       114.0   47.0  5.500000                                   1.34000   \n",
       "max       114.0   47.0  7.000000                                   1.35000   \n",
       "\n",
       "       mean_travel_time_mins  standard_deviation_travel_time_mins  \\\n",
       "count               7.000000                             7.000000   \n",
       "mean               24.821595                             7.375429   \n",
       "std                 1.076759                             0.578526   \n",
       "min                23.717167                             6.387833   \n",
       "25%                24.055583                             7.036417   \n",
       "50%                24.757833                             7.647167   \n",
       "75%                25.127417                             7.725500   \n",
       "max                26.910167                             8.069167   \n",
       "\n",
       "       geometric_mean_travel_time_mins  \n",
       "count                         7.000000  \n",
       "mean                         23.824071  \n",
       "std                           0.999837  \n",
       "min                          22.908833  \n",
       "25%                          23.047167  \n",
       "50%                          23.744667  \n",
       "75%                          24.129083  \n",
       "max                          25.762500  "
      ]
     },
     "execution_count": 114,
     "metadata": {},
     "output_type": "execute_result"
    }
   ],
   "source": [
    "wma = newdf1['mean_travel_time_mins'].max()\n",
    "wmi = newdf1['mean_travel_time_mins'].min()\n",
    "wgma = newdf1['geometric_mean_travel_time_mins'].max()\n",
    "wgmi = newdf1['geometric_mean_travel_time_mins'].min()\n",
    "newdf1 = newdf1.drop(['mean_travel_time','standard_deviation_travel_time','geometric_mean_travel_time'], axis = 1)\n",
    "newdf1.describe()"
   ]
  },
  {
   "cell_type": "code",
   "execution_count": 115,
   "metadata": {},
   "outputs": [
    {
     "data": {
      "text/plain": [
       "<matplotlib.axes._subplots.AxesSubplot at 0x2f04f83ea08>"
      ]
     },
     "metadata": {},
     "output_type": "display_data"
    },
    {
     "data": {
      "image/png": "[encoded data removed]",
      "text/plain": [
       "<Figure size 720x360 with 1 Axes>"
      ]
     },
     "metadata": {
      "needs_background": "light"
     },
     "output_type": "display_data"
    }
   ],
   "source": [
    "y = newdf1.groupby('dow_category')['mean_travel_time_mins'].mean()\n",
    "ay = y.plot(kind='bar', figsize=(10, 5), zorder=2, width=0.4, color='c')\n",
    "ay.spines['right'].set_visible(False)\n",
    "ay.spines['top'].set_visible(False)\n",
    "#ax.spines['left'].set_visible(False)\n",
    "#ax.spines['bottom'].set_visible(False)\n",
    "ay.set_title('Average travel times by day:\\n\\n{}\\nto\\n{}\\n\\nTime Range: Min - {}, Max - {}'.format(s,d,wmi,wma), size=15)\n",
    "ay.tick_params(axis=\"both\", which=\"both\", bottom=\"off\", top=\"off\", labelbottom=\"on\", left=\"off\", right=\"off\", labelleft=\"on\")\n",
    "vals = ay.get_xticks()\n",
    "for tick in vals:\n",
    "    ay.axvline(x=tick, linestyle='dashed', alpha=0.4, color='#eeeeee', zorder=1)\n",
    "# Set x-axis label\n",
    "ay.set_xlabel(\"\", labelpad=10, size=12)\n",
    "# Set y-axis label\n",
    "ay.set_ylabel(\"Time taken to Travel (mins)\", labelpad=20, weight='bold', size=10)\n",
    "display(ay)"
   ]
  },
  {
   "cell_type": "code",
   "execution_count": 116,
   "metadata": {},
   "outputs": [],
   "source": [
    "##################     Average travel time by hour   ########################################"
   ]
  },
  {
   "cell_type": "code",
   "execution_count": 117,
   "metadata": {},
   "outputs": [
    {
     "data": {
      "text/html": [
       "<div>\n",
       "<style scoped>\n",
       "    .dataframe tbody tr th:only-of-type {\n",
       "        vertical-align: middle;\n",
       "    }\n",
       "\n",
       "    .dataframe tbody tr th {\n",
       "        vertical-align: top;\n",
       "    }\n",
       "\n",
       "    .dataframe thead th {\n",
       "        text-align: right;\n",
       "    }\n",
       "</style>\n",
       "<table border=\"1\" class=\"dataframe\">\n",
       "  <thead>\n",
       "    <tr style=\"text-align: right;\">\n",
       "      <th></th>\n",
       "      <th>sourceid</th>\n",
       "      <th>dstid</th>\n",
       "      <th>hod</th>\n",
       "      <th>geometric_standard_deviation_travel_time</th>\n",
       "      <th>mean_travel_time_mins</th>\n",
       "      <th>standard_deviation_travel_time_mins</th>\n",
       "      <th>geometric_mean_travel_time_mins</th>\n",
       "    </tr>\n",
       "  </thead>\n",
       "  <tbody>\n",
       "    <tr>\n",
       "      <td>count</td>\n",
       "      <td>24.0</td>\n",
       "      <td>24.0</td>\n",
       "      <td>24.000000</td>\n",
       "      <td>24.000000</td>\n",
       "      <td>24.000000</td>\n",
       "      <td>24.000000</td>\n",
       "      <td>24.000000</td>\n",
       "    </tr>\n",
       "    <tr>\n",
       "      <td>mean</td>\n",
       "      <td>114.0</td>\n",
       "      <td>47.0</td>\n",
       "      <td>11.500000</td>\n",
       "      <td>1.278333</td>\n",
       "      <td>22.522924</td>\n",
       "      <td>6.175215</td>\n",
       "      <td>21.825910</td>\n",
       "    </tr>\n",
       "    <tr>\n",
       "      <td>std</td>\n",
       "      <td>0.0</td>\n",
       "      <td>0.0</td>\n",
       "      <td>7.071068</td>\n",
       "      <td>0.051471</td>\n",
       "      <td>4.996484</td>\n",
       "      <td>0.777987</td>\n",
       "      <td>5.021097</td>\n",
       "    </tr>\n",
       "    <tr>\n",
       "      <td>min</td>\n",
       "      <td>114.0</td>\n",
       "      <td>47.0</td>\n",
       "      <td>0.000000</td>\n",
       "      <td>1.210000</td>\n",
       "      <td>15.472500</td>\n",
       "      <td>4.495833</td>\n",
       "      <td>14.952000</td>\n",
       "    </tr>\n",
       "    <tr>\n",
       "      <td>25%</td>\n",
       "      <td>114.0</td>\n",
       "      <td>47.0</td>\n",
       "      <td>5.750000</td>\n",
       "      <td>1.240000</td>\n",
       "      <td>16.834792</td>\n",
       "      <td>5.791625</td>\n",
       "      <td>16.059167</td>\n",
       "    </tr>\n",
       "    <tr>\n",
       "      <td>50%</td>\n",
       "      <td>114.0</td>\n",
       "      <td>47.0</td>\n",
       "      <td>11.500000</td>\n",
       "      <td>1.260000</td>\n",
       "      <td>24.193667</td>\n",
       "      <td>6.263500</td>\n",
       "      <td>23.609833</td>\n",
       "    </tr>\n",
       "    <tr>\n",
       "      <td>75%</td>\n",
       "      <td>114.0</td>\n",
       "      <td>47.0</td>\n",
       "      <td>17.250000</td>\n",
       "      <td>1.320000</td>\n",
       "      <td>26.082417</td>\n",
       "      <td>6.409167</td>\n",
       "      <td>25.454292</td>\n",
       "    </tr>\n",
       "    <tr>\n",
       "      <td>max</td>\n",
       "      <td>114.0</td>\n",
       "      <td>47.0</td>\n",
       "      <td>23.000000</td>\n",
       "      <td>1.370000</td>\n",
       "      <td>31.740167</td>\n",
       "      <td>7.922000</td>\n",
       "      <td>30.874833</td>\n",
       "    </tr>\n",
       "  </tbody>\n",
       "</table>\n",
       "</div>"
      ],
      "text/plain": [
       "       sourceid  dstid        hod  geometric_standard_deviation_travel_time  \\\n",
       "count      24.0   24.0  24.000000                                 24.000000   \n",
       "mean      114.0   47.0  11.500000                                  1.278333   \n",
       "std         0.0    0.0   7.071068                                  0.051471   \n",
       "min       114.0   47.0   0.000000                                  1.210000   \n",
       "25%       114.0   47.0   5.750000                                  1.240000   \n",
       "50%       114.0   47.0  11.500000                                  1.260000   \n",
       "75%       114.0   47.0  17.250000                                  1.320000   \n",
       "max       114.0   47.0  23.000000                                  1.370000   \n",
       "\n",
       "       mean_travel_time_mins  standard_deviation_travel_time_mins  \\\n",
       "count              24.000000                            24.000000   \n",
       "mean               22.522924                             6.175215   \n",
       "std                 4.996484                             0.777987   \n",
       "min                15.472500                             4.495833   \n",
       "25%                16.834792                             5.791625   \n",
       "50%                24.193667                             6.263500   \n",
       "75%                26.082417                             6.409167   \n",
       "max                31.740167                             7.922000   \n",
       "\n",
       "       geometric_mean_travel_time_mins  \n",
       "count                        24.000000  \n",
       "mean                         21.825910  \n",
       "std                           5.021097  \n",
       "min                          14.952000  \n",
       "25%                          16.059167  \n",
       "50%                          23.609833  \n",
       "75%                          25.454292  \n",
       "max                          30.874833  "
      ]
     },
     "execution_count": 117,
     "metadata": {},
     "output_type": "execute_result"
    }
   ],
   "source": [
    "hma = newdf['mean_travel_time_mins'].max()\n",
    "hmi = newdf['mean_travel_time_mins'].min()\n",
    "gma = newdf['geometric_mean_travel_time_mins'].max()\n",
    "gmi = newdf['geometric_mean_travel_time_mins'].min()\n",
    "\n",
    "newdf = newdf.drop(['mean_travel_time','standard_deviation_travel_time','geometric_mean_travel_time'], axis = 1)\n",
    "newdf.describe()"
   ]
  },
  {
   "cell_type": "code",
   "execution_count": 118,
   "metadata": {},
   "outputs": [
    {
     "data": {
      "text/plain": [
       "<matplotlib.axes._subplots.AxesSubplot at 0x2f04f83ea08>"
      ]
     },
     "metadata": {},
     "output_type": "display_data"
    },
    {
     "data": {
      "image/png": "[encoded data removed]",
      "text/plain": [
       "<Figure size 720x360 with 1 Axes>"
      ]
     },
     "metadata": {
      "needs_background": "light"
     },
     "output_type": "display_data"
    }
   ],
   "source": [
    "x = newdf.groupby('hod_category')['mean_travel_time_mins'].mean()\n",
    "ax = x.plot(kind='bar', figsize=(10, 5), zorder=2, width=0.4)\n",
    "ax.spines['right'].set_visible(False)\n",
    "ax.spines['top'].set_visible(False)\n",
    "#ax.spines['left'].set_visible(False)\n",
    "#ax.spines['bottom'].set_visible(False)\n",
    "ax.set_title('Average travel times by period:\\n\\n{}\\nto\\n{}\\n\\nTime Range: Min - {}, Max - {}'.format(s,d,hmi,hma), size=15)\n",
    "ax.tick_params(axis=\"both\", which=\"both\", bottom=\"off\", top=\"off\", labelbottom=\"on\", left=\"off\", right=\"off\", labelleft=\"on\")\n",
    "vals = ax.get_xticks()\n",
    "for tick in vals:\n",
    "    ax.axvline(x=tick, linestyle='dashed', alpha=0.4, color='#eeeeee', zorder=1)\n",
    "# Set x-axis label\n",
    "ax.set_xlabel(\"\", labelpad=10, size=12)\n",
    "# Set y-axis label\n",
    "ax.set_ylabel(\"Time taken to Travel (mins)\", labelpad=20, weight='bold', size=10)\n",
    "display(ay)"
   ]
  },
  {
   "cell_type": "code",
   "execution_count": 119,
   "metadata": {},
   "outputs": [],
   "source": [
    "##################     Geometric mean travel time by day   ########################################"
   ]
  },
  {
   "cell_type": "code",
   "execution_count": 120,
   "metadata": {},
   "outputs": [
    {
     "data": {
      "text/plain": [
       "<matplotlib.axes._subplots.AxesSubplot at 0x2f04ed39a88>"
      ]
     },
     "metadata": {},
     "output_type": "display_data"
    },
    {
     "data": {
      "image/png": "[encoded data removed]",
      "text/plain": [
       "<Figure size 720x360 with 1 Axes>"
      ]
     },
     "metadata": {
      "needs_background": "light"
     },
     "output_type": "display_data"
    }
   ],
   "source": [
    "y = newdf1.groupby('dow_category')['geometric_mean_travel_time_mins'].mean()\n",
    "ay = y.plot(kind='bar', figsize=(10, 5), zorder=2, width=0.4, color='c')\n",
    "ay.spines['right'].set_visible(False)\n",
    "ay.spines['top'].set_visible(False)\n",
    "#ax.spines['left'].set_visible(False)\n",
    "#ax.spines['bottom'].set_visible(False)\n",
    "ay.set_title('Geometric mean travel times by day:\\n\\n{}\\nto\\n{}\\n\\nTime Range: Min - {}, Max - {}'.format(s,d,wgmi,wgma), size=15)\n",
    "ay.tick_params(axis=\"both\", which=\"both\", bottom=\"off\", top=\"off\", labelbottom=\"on\", left=\"off\", right=\"off\", labelleft=\"on\")\n",
    "vals = ay.get_xticks()\n",
    "for tick in vals:\n",
    "    ay.axvline(x=tick, linestyle='dashed', alpha=0.4, color='#eeeeee', zorder=1)\n",
    "# Set x-axis label\n",
    "ay.set_xlabel(\"\", labelpad=10, size=12)\n",
    "# Set y-axis label\n",
    "ay.set_ylabel(\"Time taken to Travel (mins)\", labelpad=20, weight='bold', size=10)\n",
    "display(ay)"
   ]
  },
  {
   "cell_type": "code",
   "execution_count": 121,
   "metadata": {},
   "outputs": [],
   "source": [
    "##################     Average travel time by hour   ########################################"
   ]
  },
  {
   "cell_type": "code",
   "execution_count": 122,
   "metadata": {},
   "outputs": [
    {
     "data": {
      "text/plain": [
       "<matplotlib.axes._subplots.AxesSubplot at 0x2f04ed39a88>"
      ]
     },
     "metadata": {},
     "output_type": "display_data"
    },
    {
     "data": {
      "image/png": "[encoded data removed]",
      "text/plain": [
       "<Figure size 720x360 with 1 Axes>"
      ]
     },
     "metadata": {
      "needs_background": "light"
     },
     "output_type": "display_data"
    }
   ],
   "source": [
    "x = newdf.groupby('hod_category')['geometric_mean_travel_time_mins'].mean()\n",
    "ax = x.plot(kind='bar', figsize=(10, 5), zorder=2, width=0.4)\n",
    "ax.spines['right'].set_visible(False)\n",
    "ax.spines['top'].set_visible(False)\n",
    "#ax.spines['left'].set_visible(False)\n",
    "#ax.spines['bottom'].set_visible(False)\n",
    "ax.set_title('Geometric mean travel times by period:\\n\\n{}\\nto\\n{}\\n\\nTime Range: Min - {}, Max - {}'.format(s,d,gmi,gma), size=15)\n",
    "ax.tick_params(axis=\"both\", which=\"both\", bottom=\"off\", top=\"off\", labelbottom=\"on\", left=\"off\", right=\"off\", labelleft=\"on\")\n",
    "vals = ax.get_xticks()\n",
    "for tick in vals:\n",
    "    ax.axvline(x=tick, linestyle='dashed', alpha=0.4, color='#eeeeee', zorder=1)\n",
    "# Set x-axis label\n",
    "ax.set_xlabel(\"\", labelpad=10, size=12)\n",
    "# Set y-axis label\n",
    "ax.set_ylabel(\"Time taken to Travel (mins)\", labelpad=20, weight='bold', size=10)\n",
    "display(ay)"
   ]
  },
  {
   "cell_type": "code",
   "execution_count": null,
   "metadata": {},
   "outputs": [],
   "source": []
  },
  {
   "cell_type": "code",
   "execution_count": null,
   "metadata": {},
   "outputs": [],
   "source": []
  }
 ],
 "metadata": {
  "kernelspec": {
   "display_name": "Python 3",
   "language": "python",
   "name": "python3"
  },
  "language_info": {
   "codemirror_mode": {
    "name": "ipython",
    "version": 3
   },
   "file_extension": ".py",
   "mimetype": "text/x-python",
   "name": "python",
   "nbconvert_exporter": "python",
   "pygments_lexer": "ipython3",
   "version": "3.7.4"
  }
 },
 "nbformat": 4,
 "nbformat_minor": 2
}
